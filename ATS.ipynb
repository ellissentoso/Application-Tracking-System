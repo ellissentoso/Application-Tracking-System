{
 "cells": [
  {
   "cell_type": "code",
   "execution_count": null,
   "id": "5759c9b1",
   "metadata": {},
   "outputs": [],
   "source": [
    "import docx2txt\n",
    "from sklearn.feature_extraction.text import CountVectorizer\n",
    "from sklearn.metrics.pairwise import cosine_similarity"
   ]
  },
  {
   "cell_type": "code",
   "execution_count": null,
   "id": "4e3870a2",
   "metadata": {},
   "outputs": [],
   "source": [
    "resume = docx2txt.process('ellissentosoresume_.docx')"
   ]
  },
  {
   "cell_type": "code",
   "execution_count": null,
   "id": "4a4d70d8",
   "metadata": {},
   "outputs": [],
   "source": [
    "print(resume)"
   ]
  },
  {
   "cell_type": "code",
   "execution_count": null,
   "id": "75bb1e7e",
   "metadata": {},
   "outputs": [],
   "source": [
    "job_desc = docx2txt.process(\"job_desc.docx\")"
   ]
  },
  {
   "cell_type": "code",
   "execution_count": null,
   "id": "ba2cd94b",
   "metadata": {},
   "outputs": [],
   "source": [
    "print(job_desc)"
   ]
  },
  {
   "cell_type": "code",
   "execution_count": null,
   "id": "86c40aae",
   "metadata": {},
   "outputs": [],
   "source": [
    "text = [resume, job_desc]"
   ]
  },
  {
   "cell_type": "code",
   "execution_count": null,
   "id": "32ef92e9",
   "metadata": {},
   "outputs": [],
   "source": [
    "cv = CountVectorizer()\n",
    "count_matrix = cv.fit_transform(text)\n",
    "print(cosine_similarity(count_matrix))"
   ]
  },
  {
   "cell_type": "code",
   "execution_count": null,
   "id": "fa4f359a",
   "metadata": {},
   "outputs": [],
   "source": [
    "match = cosine_similarity(count_matrix)[0][1]\n",
    "match = match * 100\n",
    "match = round(match, 2)\n",
    "print(match)"
   ]
  },
  {
   "cell_type": "code",
   "execution_count": null,
   "id": "9c1eb3e6",
   "metadata": {},
   "outputs": [],
   "source": [
    "if (match > 60):\n",
    "    print(\"Application is accepted by ATS\")\n",
    "else:\n",
    "    print(\"Application is not accepted by ATS\")"
   ]
  }
 ],
 "metadata": {
  "kernelspec": {
   "display_name": "Python 3 (ipykernel)",
   "language": "python",
   "name": "python3"
  },
  "language_info": {
   "codemirror_mode": {
    "name": "ipython",
    "version": 3
   },
   "file_extension": ".py",
   "mimetype": "text/x-python",
   "name": "python",
   "nbconvert_exporter": "python",
   "pygments_lexer": "ipython3",
   "version": "3.9.7"
  }
 },
 "nbformat": 4,
 "nbformat_minor": 5
}
